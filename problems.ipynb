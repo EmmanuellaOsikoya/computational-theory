{
 "cells": [
  {
   "cell_type": "code",
   "execution_count": 22,
   "id": "36bf33a0",
   "metadata": {},
   "outputs": [],
   "source": [
    "import numpy as np"
   ]
  },
  {
   "cell_type": "markdown",
   "id": "defb4d00",
   "metadata": {},
   "source": [
    "## Problem 1: Binary Words and Operations"
   ]
  },
  {
   "cell_type": "markdown",
   "id": "033639d8",
   "metadata": {},
   "source": [
    "##### The Pharity function is responsible for implementing the SHA-1 function, which returns the bitwise XOR of three 32-bit integer values. XOR outputs 1 in a bit position if an odd number of inputs have a 1 in that position otherwise it outputs 0. To ensure that the inputs are treated as 32-bit integers I have decided to use the `numpy.uint32` function ([see official documentation](https://numpy.org/doc/stable/user/basics.types.html))"
   ]
  },
  {
   "cell_type": "code",
   "execution_count": 23,
   "id": "5a668470",
   "metadata": {},
   "outputs": [
    {
     "name": "stdout",
     "output_type": "stream",
     "text": [
      "Parity result:  0b0\n"
     ]
    }
   ],
   "source": [
    "# Problem one is all about implementing functions in Python using numpy to ensure that all values are treated as 32-bit integers\n",
    "\n",
    "def Parity(x, y, z):\n",
    "    \"\"\"\n",
    "    The Parity function is responsible for computing the bitwise parity (XOR) of three 32-bit integers.\n",
    "    \n",
    "    The Parity function is defined as follows:\n",
    "    \n",
    "    Parity(x, y, z) = x XOR y XOR z\n",
    "    where XOR is the bitwise exclusive OR operation.\n",
    "    \n",
    "    Using the numpy library, we can ensure that the inputs are treated as 32-bit integers by converting them using np.uint32.\n",
    "    \n",
    "    Parameters:\n",
    "    \n",
    "    x (int): A 32-bit integer.\n",
    "    y (int): A 32-bit integer.\n",
    "    z (int): A 32-bit integer.\n",
    "    \n",
    "    Returns:\n",
    "    \n",
    "    int: The parity of the three input integers as a 32-bit integer.\n",
    "    \n",
    "    \"\"\"\n",
    "    x = np.uint32(x)\n",
    "    y = np.uint32(y)\n",
    "    z = np.uint32(z)\n",
    "    \n",
    "    return (x ^ y ^ z)\n",
    "\n",
    "\n",
    "# To test this function I will be using three binary numbers with the Parity function\n",
    "a = 0b1010 # 10 in decimal\n",
    "b = 0b1100 # 12 in decimal\n",
    "c = 0b0110 # 6 in decimal\n",
    "\n",
    "# Testing out the function\n",
    "result = Parity(a, b, c)\n",
    "print(\"Parity result: \", bin(result))"
   ]
  },
  {
   "cell_type": "markdown",
   "id": "0d131f71",
   "metadata": {},
   "source": [
    "#### The Ch function which is actually short for choose is a bitwise operation that is used in SHA-1. It selects bits from two inputs (y and z) based on the third input (x) as a selector.\n",
    "\n",
    "#### I will now explain how it works: \n",
    "#### For each bit position: If the bit in x (the selector integer), is 1 you take the bit from y, and if the bit in x is 0 you take the bit from z. To ensure that the inputs are treated as 32-bit integers I have decided to use the `numpy.uint32` function ([see official documentation](https://numpy.org/doc/stable/user/basics.types.html))"
   ]
  },
  {
   "cell_type": "code",
   "execution_count": 24,
   "id": "7f76c15b",
   "metadata": {},
   "outputs": [
    {
     "name": "stdout",
     "output_type": "stream",
     "text": [
      "Ch result:  0b1100\n"
     ]
    }
   ],
   "source": [
    "\"\"\"\n",
    "Ch(x,y,z) = (x AND y) XOR (NOT x AND z) is responsible for returning the result of the Ch function for three 32-bit integers.\n",
    "\n",
    "The function takes three 32-bit integers as input and returns the result of the Ch function as a 32-bit integer.\n",
    "\n",
    "\"\"\"\n",
    "\n",
    "def Ch(x, y, z):\n",
    "    \"\"\"\n",
    "    The Ch function is responsible for computing the bitwise choice operation of three 32-bit integers.\n",
    "    \n",
    "    The Ch function is defined as follows:\n",
    "    \n",
    "    Ch(x, y, z) = (x AND y) XOR (NOT x AND z)\n",
    "    where AND is the bitwise AND operation, NOT is the bitwise NOT operation, and XOR is the bitwise exclusive OR operation.\n",
    "    Using the numpy library, we can ensure that the inputs are treated as 32-bit integers by converting them using np.uint32.\n",
    "    \n",
    "    Returns:\n",
    "    int: The result of the Ch function for the three input integers as a 32-bit integer.\n",
    "    \n",
    "    \"\"\"\n",
    "    \n",
    "    x = np.uint32(x)\n",
    "    y = np.uint32(y)\n",
    "    z = np.uint32(z)\n",
    "    \n",
    "    return ((x & y) ^ (~x & z))\n",
    "\n",
    "# To test this function I will be using three binary numbers with the Ch function\n",
    "a = 0b1010 # 10 in decimal\n",
    "b = 0b1100 # 12 in decimal\n",
    "c = 0b0110 # 6 in decimal\n",
    "\n",
    "# Testing out the function\n",
    "result = Ch(a, b, c)\n",
    "print(\"Ch result: \", bin(result))"
   ]
  },
  {
   "cell_type": "markdown",
   "id": "4ddb0a04",
   "metadata": {},
   "source": [
    "#### The Maj which is actually short for majority function is responsible for computing the majority of three 32-bit integers bitwise. The maj function is defined as follows:\n",
    "\n",
    "#### Maj(x,y,z) = (x AND y) XOR (x AND z) XOR (y AND z)\n",
    "\n",
    "#### I will now explain its behaviour: for each bit position: output = 1 if at least two of the three input bits are 1 or 0 if fewer than two bits are 1. To ensure that the inputs are treated as 32-bit integers I have decided to use the `numpy.uint32` function ([see official documentation](https://numpy.org/doc/stable/user/basics.types.html))"
   ]
  },
  {
   "cell_type": "code",
   "execution_count": 25,
   "id": "1c85c5d5",
   "metadata": {},
   "outputs": [
    {
     "name": "stdout",
     "output_type": "stream",
     "text": [
      "Maj result: 0b1110\n"
     ]
    }
   ],
   "source": [
    "def Maj(x, y, z):\n",
    "    \"\"\"\n",
    "    The Maj function is responsible for computing the bitwise majority operation of three 32-bit integers.\n",
    "    \n",
    "    The Maj function is defined as follows:\n",
    "    \n",
    "    Maj(x, y, z) = (x AND y) XOR (x AND z) XOR (y AND z)\n",
    "    where AND is the bitwise AND operation and XOR is the bitwise exclusive OR operation.\n",
    "    Using the numpy library, we can ensure that the inputs are treated as 32-bit integers by converting them using np.uint32.\n",
    "    \n",
    "    Parameters:\n",
    "    \n",
    "    x (int): A 32-bit integer.\n",
    "    y (int): A 32-bit integer.\n",
    "    z (int): A 32-bit integer.\n",
    "    \n",
    "    Returns:\n",
    "    \n",
    "    int: The result of the Maj function for the three input integers as a 32-bit integer.\n",
    "    \n",
    "    \"\"\"\n",
    "    # Makes sure inputs are treated as 32-bit integers\n",
    "    x = np.uint32(x)\n",
    "    y = np.uint32(y)\n",
    "    z = np.uint32(z)\n",
    "    \n",
    "    # Returns the result of the Maj function as a 32-bit integer\n",
    "    return ((x & y) ^ (x & z) ^ (y & z))\n",
    "\n",
    "# To test this function I will be using three binary numbers with the Maj function\n",
    "a = 0b1010 # 10 in decimal\n",
    "b = 0b1100 # 12 in decimal\n",
    "c = 0b0110 # 6 in decimal\n",
    "\n",
    "# Testing out the function\n",
    "result = Maj(a, b, c)\n",
    "print(\"Maj result:\", bin(result))\n"
   ]
  },
  {
   "cell_type": "markdown",
   "id": "279480da",
   "metadata": {},
   "source": [
    "\n",
    "#### The Big Sigma Zero of x is a bit-mixing function that is used in the SHA-256 compression step. It takes a 32-bit word and returns another 32-bit word by combining three right-rotations of the input usnig bitwise XOR. \n",
    "\n",
    "#### There are three steps you must take in order to implement this correctly (see functions below): \n",
    "#### 1. ROTR(x ,n) (right rotate) x by n bits (wrap bits around).\n",
    "#### 2. SHR(x, n) (logical shift right) x by n bits\n",
    "#### 3. XOR Bitwise exclusive OR applied to the three rotated results"
   ]
  },
  {
   "cell_type": "code",
   "execution_count": null,
   "id": "404635b3",
   "metadata": {},
   "outputs": [],
   "source": [
    "def rotr(x, n):\n",
    "    \"\"\"\n",
    "    ROTR (rotate right) function performs a right rotation on a 32-bit integer x by n bits.\n",
    "    It is used in SHA-256 for bit diffusion.\n",
    "    \n",
    "    Parameters:\n",
    "    \n",
    "    x (int): A 32-bit integer to be rotated.\n",
    "    n (int): The number of bits to rotate x to the right.\n",
    "    \n",
    "    Returns:\n",
    "    int: The result of rotating x to the right by n bits as a 32-bit integer.\n",
    "    \n",
    "    \"\"\"\n",
    "    \n",
    "    x = np.uint32(x) # Ensure x is treated as a 32-bit integer\n",
    "    \n",
    "    # To preform the right rotation we have to:\n",
    "    # 1. Shift x to the right by n bits\n",
    "    # 2. Shift the original bits to the left by (32 - n) to wrap around\n",
    "    # 3. Combine both of the results by using the OR operation\n",
    "    return np.uint32((x >> n) | (x << (32 - n)))\n"
   ]
  },
  {
   "cell_type": "code",
   "execution_count": null,
   "id": "dd509dab",
   "metadata": {},
   "outputs": [],
   "source": [
    "def shr(x, n):\n",
    "    \"\"\" \n",
    "    SHR (shift right) function performs a logical right shift on a 32-bit integer x by n bits.\n",
    "    It differs to the arithmetic right shift because it does not preserve the sign bit.\n",
    "    \n",
    "    Parameters:\n",
    "    x (int): A 32-bit integer to be shifted.\n",
    "    n (int): The number of bits to shift x to the right.\n",
    "    \n",
    "    Returns:\n",
    "    int: The result of shifting x to the right by n bits as a 32-bit integer.\n",
    "    \"\"\"\n",
    "    x = np.uint32(x) # Ensure x is treated as a 32-bit integer\n",
    "    \n",
    "    # To preform the logical right shift we have to:\n",
    "    # 1. Ensure that the bits shifted off the right are discarded\n",
    "    # 2. Ensure the new leftmost bits are filled with zeros\n",
    "    return np.uint32((x >> n))"
   ]
  },
  {
   "cell_type": "code",
   "execution_count": null,
   "id": "bcdcc702",
   "metadata": {},
   "outputs": [],
   "source": [
    "def Sigma0(x):\n",
    "    \"\"\"\n",
    "    The Sigma0 function is responsible for computing the bitwise rotation and XOR operations on a 32-bit integer.\n",
    "    The Big Sigma function is defined as follows:\n",
    "    Sigma0(x) = ROTR(x, 2) XOR ROTR(x, 13) XOR ROTR(x, 22)\n",
    "    where ROTR is the bitwise rotate right operation and XOR is the bitwise exclusive OR operation.\n",
    "    \n",
    "    Parameters:\n",
    "    x (int): A 32-bit integer.\n",
    "    \n",
    "    Returns:\n",
    "    int: The result of the Sigma0 function for the input integer as a 32-bit integer.\n",
    "    \"\"\"\n",
    "    x = np.uint32(x) # Ensure x is treated as a 32-bit integer\n",
    "    \n",
    "    # Calculate and return the result of the Sigma0 function as a 32-bit integer\n",
    "    return np.int32(rotr(x, 2) ^ rotr(x, 13) ^ rotr(x, 22))"
   ]
  },
  {
   "cell_type": "code",
   "execution_count": null,
   "id": "22d6b120",
   "metadata": {},
   "outputs": [
    {
     "name": "stdout",
     "output_type": "stream",
     "text": [
      "Sigma0 results:\n",
      "x =        0x0 -> Sigma0(x) = 0x0\n",
      "x = 0xffffffff -> Sigma0(x) = -0x1\n",
      "x = 0x12345678 -> Sigma0(x) = 0x66146474\n",
      "x = 0x6a09e667 -> Sigma0(x) = -0x31df4b82\n"
     ]
    }
   ],
   "source": [
    "# Testing to see if the Sigma0 function works correctly\n",
    "testing_values = [\n",
    "    0x00000000,\n",
    "    0xFFFFFFFF,\n",
    "    0x12345678,\n",
    "    0x6A09E667\n",
    "]\n",
    "\n",
    "# Output of the results for Sigma0 function\n",
    "print(\"Sigma0 results:\")\n",
    "for value in testing_values:\n",
    "    result = Sigma0(value)\n",
    "    print(f\"x = {hex(value):>10} -> Sigma0(x) = {hex(int(result))}\")\n"
   ]
  },
  {
   "cell_type": "markdown",
   "id": "4e57459f",
   "metadata": {},
   "source": [
    "## Problem 2: Fractional Parts of Cube Roots"
   ]
  },
  {
   "cell_type": "markdown",
   "id": "b4328aed",
   "metadata": {},
   "source": [
    "## Problem 3: Padding"
   ]
  },
  {
   "cell_type": "markdown",
   "id": "743184bc",
   "metadata": {},
   "source": [
    "## Problem 4: Hashes"
   ]
  },
  {
   "cell_type": "markdown",
   "id": "fe9dacfe",
   "metadata": {},
   "source": [
    "## Problem 5: Passwords "
   ]
  }
 ],
 "metadata": {
  "kernelspec": {
   "display_name": "base",
   "language": "python",
   "name": "python3"
  },
  "language_info": {
   "codemirror_mode": {
    "name": "ipython",
    "version": 3
   },
   "file_extension": ".py",
   "mimetype": "text/x-python",
   "name": "python",
   "nbconvert_exporter": "python",
   "pygments_lexer": "ipython3",
   "version": "3.12.7"
  }
 },
 "nbformat": 4,
 "nbformat_minor": 5
}
