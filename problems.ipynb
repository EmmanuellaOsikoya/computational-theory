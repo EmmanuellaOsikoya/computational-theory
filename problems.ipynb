{
 "cells": [
  {
   "cell_type": "code",
   "execution_count": 1,
   "id": "36bf33a0",
   "metadata": {},
   "outputs": [],
   "source": [
    "import numpy as np"
   ]
  },
  {
   "cell_type": "markdown",
   "id": "defb4d00",
   "metadata": {},
   "source": [
    "## Problem 1: Binary Words and Operations"
   ]
  },
  {
   "cell_type": "markdown",
   "id": "033639d8",
   "metadata": {},
   "source": [
    "##### The Pharity function is responsible for implementing the SHA-1 function, which returns the bitwise XOR of three 32-bit integer values. XOR outputs 1 in a bit position if an odd number of inputs have a 1 in that position otherwise it outputs 0."
   ]
  },
  {
   "cell_type": "code",
   "execution_count": 2,
   "id": "5a668470",
   "metadata": {},
   "outputs": [
    {
     "name": "stdout",
     "output_type": "stream",
     "text": [
      "0b0\n"
     ]
    }
   ],
   "source": [
    "# Problem one is all about implementing functions in Python using numpy to ensure that all values are treated as 32-bit integers\n",
    "\"\"\"\n",
    "Parity(x, y, z) = x XOR y XOR z is responsible for returning the parity of three 32-bit integers.\n",
    "\n",
    "The function takes three 32-bit integers as input and returns their parity as a 32-bit integer.\n",
    "\n",
    "The parity function is defined as the XOR of the three input integers where XOR is the bitwise exclusive OR operation.\n",
    "\n",
    "np.uint is a function from the numpy library that converts a given value to an unsigned integer of specified bit-width.\n",
    "\n",
    "\"\"\"\n",
    "def Parity(x, y, z):\n",
    "    x = np.uint32(x)\n",
    "    y = np.uint32(y)\n",
    "    z = np.uint32(z)\n",
    "    \n",
    "    return (x ^ y ^ z)\n",
    "\n",
    "\n",
    "# To test this function I will be using three binary numbers with the Parity function\n",
    "a = 0b1010 # 10 in decimal\n",
    "b = 0b1100 # 12 in decimal\n",
    "c = 0b0110 # 6 in decimal\n",
    "\n",
    "# Testing out the function\n",
    "result = Parity(a, b, c)\n",
    "print(bin(result))"
   ]
  },
  {
   "cell_type": "code",
   "execution_count": 3,
   "id": "7f76c15b",
   "metadata": {},
   "outputs": [
    {
     "name": "stdout",
     "output_type": "stream",
     "text": [
      "0b1100\n"
     ]
    }
   ],
   "source": [
    "\"\"\"\n",
    "Ch(x,y,z) = (x AND y) XOR (NOT x AND z) is responsible for returning the result of the Ch function for three 32-bit integers.\n",
    "\n",
    "The function takes three 32-bit integers as input and returns the result of the Ch function as a 32-bit integer.\n",
    "\n",
    "\"\"\"\n",
    "\n",
    "def Ch(x, y, z):\n",
    "    x = np.uint32(x)\n",
    "    y = np.uint32(y)\n",
    "    z = np.uint32(z)\n",
    "    \n",
    "    return ((x & y) ^ (~x & z))\n",
    "\n",
    "# To test this function I will be using three binary numbers with the Ch function\n",
    "a = 0b1010 # 10 in decimal\n",
    "b = 0b1100 # 12 in decimal\n",
    "c = 0b0110 # 6 in decimal\n",
    "\n",
    "# Testing out the function\n",
    "result = Ch(a, b, c)\n",
    "print(bin(result))"
   ]
  },
  {
   "cell_type": "markdown",
   "id": "4e57459f",
   "metadata": {},
   "source": [
    "## Problem 2: Fractional Parts of Cube Roots"
   ]
  },
  {
   "cell_type": "markdown",
   "id": "b4328aed",
   "metadata": {},
   "source": [
    "## Problem 3: Padding"
   ]
  },
  {
   "cell_type": "markdown",
   "id": "743184bc",
   "metadata": {},
   "source": [
    "## Problem 4: Hashes"
   ]
  },
  {
   "cell_type": "markdown",
   "id": "fe9dacfe",
   "metadata": {},
   "source": [
    "## Problem 5: Passwords "
   ]
  }
 ],
 "metadata": {
  "kernelspec": {
   "display_name": "base",
   "language": "python",
   "name": "python3"
  },
  "language_info": {
   "codemirror_mode": {
    "name": "ipython",
    "version": 3
   },
   "file_extension": ".py",
   "mimetype": "text/x-python",
   "name": "python",
   "nbconvert_exporter": "python",
   "pygments_lexer": "ipython3",
   "version": "3.12.7"
  }
 },
 "nbformat": 4,
 "nbformat_minor": 5
}
